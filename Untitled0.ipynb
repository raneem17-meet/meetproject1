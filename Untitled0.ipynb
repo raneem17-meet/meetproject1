{
 "metadata": {
  "name": "",
  "signature": "sha256:c1ff494937dfe3836f9f9d534d52069ba42bde89aa1c504c752371d04054eae4"
 },
 "nbformat": 3,
 "nbformat_minor": 0,
 "worksheets": [
  {
   "cells": [
    {
     "cell_type": "code",
     "collapsed": false,
     "input": [
      "from raneemsdatabase import * "
     ],
     "language": "python",
     "metadata": {},
     "outputs": [],
     "prompt_number": 1
    },
    {
     "cell_type": "code",
     "collapsed": false,
     "input": [
      "# Make a New Horse"
     ],
     "language": "python",
     "metadata": {},
     "outputs": [],
     "prompt_number": 2
    },
    {
     "cell_type": "code",
     "collapsed": false,
     "input": [
      "palomino = Horse(name = \"Rosie\" , description = \"3-year-old Palomino Horse\", photo = \"http://img15.deviantart.net/d59d/i/2013/162/1/0/palomino_tennessee_walker_horse_4_by_venomxbaby-d68m7gh.jpg\")\n",
      "session.add(palomino)\n",
      "session.commit()\n"
     ],
     "language": "python",
     "metadata": {},
     "outputs": [],
     "prompt_number": 4
    },
    {
     "cell_type": "code",
     "collapsed": false,
     "input": [
      "palomino.price = \"2000\"\n",
      "session.add(palomino)\n",
      "session.commit()"
     ],
     "language": "python",
     "metadata": {},
     "outputs": [],
     "prompt_number": 7
    },
    {
     "cell_type": "code",
     "collapsed": false,
     "input": [
      "# Make a New User\n",
      "\n",
      "user = User(name='Raneem', email = 'raneem@raneem.com')\n",
      "user.hash_password(\"THisIsMyPassword\")\n",
      "session.add(user)\n",
      "session.commit()"
     ],
     "language": "python",
     "metadata": {},
     "outputs": [],
     "prompt_number": 8
    },
    {
     "cell_type": "code",
     "collapsed": false,
     "input": [
      "user.password_hash"
     ],
     "language": "python",
     "metadata": {},
     "outputs": [
      {
       "metadata": {},
       "output_type": "pyout",
       "prompt_number": 9,
       "text": [
        "u'$6$rounds=656000$0ihRZx1Ks/xAO8LB$8vJH4clk0CZM3FtIpS11c08MPdVNiUGDOurxi4aAMBdDsB248jUS9TjlSRvOgky2uBjho/N6mLnynmEGULuuX1'"
       ]
      }
     ],
     "prompt_number": 9
    },
    {
     "cell_type": "code",
     "collapsed": false,
     "input": [
      "user.verify_password(\"THisIsMyPassword\")"
     ],
     "language": "python",
     "metadata": {},
     "outputs": [
      {
       "metadata": {},
       "output_type": "pyout",
       "prompt_number": 10,
       "text": [
        "True"
       ]
      }
     ],
     "prompt_number": 10
    },
    {
     "cell_type": "code",
     "collapsed": false,
     "input": [
      "#Make a Shopping Cart for the user\n",
      "shoppingCart = Cart(user_id = 1)\n",
      "session.add(shoppingCart)\n",
      "session.commit()"
     ],
     "language": "python",
     "metadata": {},
     "outputs": [],
     "prompt_number": 11
    },
    {
     "cell_type": "code",
     "collapsed": false,
     "input": [
      "#Add a horse to the user's shopping cart\n",
      "user.cart.horses"
     ],
     "language": "python",
     "metadata": {},
     "outputs": [
      {
       "metadata": {},
       "output_type": "pyout",
       "prompt_number": 12,
       "text": [
        "[]"
       ]
      }
     ],
     "prompt_number": 12
    },
    {
     "cell_type": "code",
     "collapsed": false,
     "input": [
      "association = CartAssociation(cart_id = 1, horse_id=1)\n",
      "user.cart.horses.append(association)\n",
      "session.add_all([association,user])\n",
      "session.commit()"
     ],
     "language": "python",
     "metadata": {},
     "outputs": [],
     "prompt_number": 17
    },
    {
     "cell_type": "code",
     "collapsed": false,
     "input": [
      "user.cart.horses[0].horse.name"
     ],
     "language": "python",
     "metadata": {},
     "outputs": [
      {
       "metadata": {},
       "output_type": "pyout",
       "prompt_number": 22,
       "text": [
        "u'Rosie'"
       ]
      }
     ],
     "prompt_number": 22
    },
    {
     "cell_type": "code",
     "collapsed": false,
     "input": [],
     "language": "python",
     "metadata": {},
     "outputs": []
    }
   ],
   "metadata": {}
  }
 ]
}