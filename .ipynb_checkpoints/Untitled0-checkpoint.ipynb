{
 "metadata": {
  "name": "",
  "signature": "sha256:d37c41f4a69ba33511c66edee876e57b7d54b45b903d016749e4774b9d7685d4"
 },
 "nbformat": 3,
 "nbformat_minor": 0,
 "worksheets": []
}